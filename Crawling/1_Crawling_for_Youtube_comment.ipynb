{
  "nbformat": 4,
  "nbformat_minor": 5,
  "metadata": {
    "kernelspec": {
      "display_name": "Python 3 (ipykernel)",
      "language": "python",
      "name": "python3"
    },
    "language_info": {
      "codemirror_mode": {
        "name": "ipython",
        "version": 3
      },
      "file_extension": ".py",
      "mimetype": "text/x-python",
      "name": "python",
      "nbconvert_exporter": "python",
      "pygments_lexer": "ipython3",
      "version": "3.9.6"
    },
    "colab": {
      "name": "1. Crawling for Youtube comment.ipynb",
      "provenance": []
    }
  },
  "cells": [
    {
      "cell_type": "code",
      "metadata": {
        "id": "9a9f2505"
      },
      "source": [
        "import pandas\n",
        "from googleapiclient.discovery import build"
      ],
      "id": "9a9f2505",
      "execution_count": null,
      "outputs": []
    },
    {
      "cell_type": "code",
      "metadata": {
        "id": "6a5f8c35"
      },
      "source": [
        "api_key = ''\n",
        "video_id = ['05bxxjAAct8', '0THPwecrIME'] #https://youtu.be/05bxxjAAct8, https://youtu.be/0THPwecrIME"
      ],
      "id": "6a5f8c35",
      "execution_count": null,
      "outputs": []
    },
    {
      "cell_type": "code",
      "metadata": {
        "id": "7cf25ca5"
      },
      "source": [
        "comments = list()\n",
        "api_obj = build('youtube', 'v3', developerKey = api_key)\n",
        "#response = api_obj.commentThreads().list(part='snippet, replies', videoId = video_id, maxResults=100).execute()"
      ],
      "id": "7cf25ca5",
      "execution_count": null,
      "outputs": []
    },
    {
      "cell_type": "code",
      "metadata": {
        "id": "35849821"
      },
      "source": [
        "for i in video_id:\n",
        "    response = api_obj.commentThreads().list(part='snippet, replies', videoId = i, maxResults=100).execute()\n",
        "\n",
        "    while response:\n",
        "        for item in response['items']:\n",
        "            comment = item['snippet']['topLevelComment']['snippet']\n",
        "            comments.append([comment['textDisplay'], comment['authorDisplayName'], comment['publishedAt'], comment['likeCount']])\n",
        "\n",
        "            if item['snippet']['totalReplyCount'] > 0:\n",
        "                for reply_item in item['replies']['comments']:\n",
        "                    reply = reply_item['snippet']\n",
        "                    comments.append([reply['textDisplay'], reply['authorDisplayName'], reply['publishedAt'], reply['likeCount']])\n",
        "\n",
        "        if 'nextPageToken' in response:\n",
        "            response = api_obj.commentThreads().list(part='snippet,replies', videoId=video_id, pageToken=response['nextPageToken'], maxResults=100).execute()\n",
        "        else:\n",
        "            break"
      ],
      "id": "35849821",
      "execution_count": null,
      "outputs": []
    },
    {
      "cell_type": "code",
      "metadata": {
        "id": "735bef07"
      },
      "source": [
        "df = pandas.DataFrame(comments)\n",
        "df.to_excel('./results.xlsx', header=['comment', 'author', 'date', 'num_likes'], index=None)"
      ],
      "id": "735bef07",
      "execution_count": null,
      "outputs": []
    },
    {
      "cell_type": "code",
      "metadata": {
        "id": "9cddea4f"
      },
      "source": [
        ""
      ],
      "id": "9cddea4f",
      "execution_count": null,
      "outputs": []
    }
  ]
}