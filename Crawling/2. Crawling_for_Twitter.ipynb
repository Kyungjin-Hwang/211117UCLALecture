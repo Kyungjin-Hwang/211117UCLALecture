{
  "nbformat": 4,
  "nbformat_minor": 0,
  "metadata": {
    "colab": {
      "name": "Crawling for Twitter.ipynb",
      "provenance": []
    },
    "kernelspec": {
      "name": "python3",
      "display_name": "Python 3"
    },
    "language_info": {
      "name": "python"
    }
  },
  "cells": [
    {
      "cell_type": "code",
      "metadata": {
        "id": "0YtIjFLkEMkj"
      },
      "source": [
        "import tweepy\n",
        "import os\n",
        "import sys\n",
        "from importlib import reload\n",
        "import pickle\n",
        "\n",
        "reload(sys)"
      ],
      "execution_count": null,
      "outputs": []
    },
    {
      "cell_type": "code",
      "metadata": {
        "id": "AHvLzLcIEale"
      },
      "source": [
        "twitter_consumer_key = \"\"\n",
        "twitter_consumer_secret = \"\"\n",
        "twitter_access_token = \"\"\n",
        "twitter_access_secret = \"\""
      ],
      "execution_count": null,
      "outputs": []
    },
    {
      "cell_type": "markdown",
      "metadata": {
        "id": "o4Xyma4jEg5Q"
      },
      "source": [
        "##### 1. Request for personal information verification"
      ]
    },
    {
      "cell_type": "code",
      "metadata": {
        "id": "OpSEEjFWEd6B"
      },
      "source": [
        "auth = tweepy.OAuthHandler(twitter_consumer_key, twitter_consumer_secret)"
      ],
      "execution_count": null,
      "outputs": []
    },
    {
      "cell_type": "markdown",
      "metadata": {
        "id": "4X9yt0vBEt39"
      },
      "source": [
        "#####2. Access request"
      ]
    },
    {
      "cell_type": "code",
      "metadata": {
        "id": "Lp8C36AtEeiH"
      },
      "source": [
        "auth.set_access_token(twitter_access_token, twitter_access_secret)\n",
        "api = tweepy.API(auth, wait_on_rate_limit=True)"
      ],
      "execution_count": null,
      "outputs": []
    },
    {
      "cell_type": "markdown",
      "metadata": {
        "id": "QeIx2KqcE3uV"
      },
      "source": [
        "##### 3. Declare a twitter search cursor"
      ]
    },
    {
      "cell_type": "code",
      "metadata": {
        "id": "HnlxkXoFE6sl"
      },
      "source": [
        "location = \"%s,%s,%s\" % (\"31.00\", \"-100.00\", \"300km\")  # Coordinates and radius of the area you want to search\n",
        "keyword = \"covid OR coronavirus OR virus OR corona OR covid-19\"   # search word"
      ],
      "execution_count": null,
      "outputs": []
    },
    {
      "cell_type": "code",
      "metadata": {
        "id": "ZSeiZHbMFX1i"
      },
      "source": [
        "cursor = tweepy.Cursor(api.search, q=keyword, since='2001-01-01',  # set a specific date\n",
        "                    count=100,   # set the number of twitter to return per page\n",
        "                    geocode=location,    # set the radius condition\n",
        "                    include_entities=True)"
      ],
      "execution_count": null,
      "outputs": []
    },
    {
      "cell_type": "code",
      "metadata": {
        "id": "R06y6gtdFufg"
      },
      "source": [
        "data_set = []\n",
        "for i, tweet in enumerate(cursor.items()):\n",
        "    print(\"{}: {}\".format(i, tweet.text))\n",
        "    data_set.append([\"{}, {}\".format(i, tweet.text)])"
      ],
      "execution_count": null,
      "outputs": []
    },
    {
      "cell_type": "code",
      "metadata": {
        "id": "heoqo_8MFu4s"
      },
      "source": [
        "file = open('./tweets_data_list.pkl', 'wb')\n",
        "pickle.dump(data_set, file) #바이너리로 압축\n",
        "file.close()"
      ],
      "execution_count": null,
      "outputs": []
    }
  ]
}